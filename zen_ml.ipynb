{
 "cells": [
  {
   "cell_type": "code",
   "execution_count": 2,
   "id": "cfb6c173-fb37-4488-9d78-9243705fcd0c",
   "metadata": {},
   "outputs": [],
   "source": [
    "from zenml import step\n",
    "from sklearn.datasets import load_iris\n",
    "from sklearn.model_selection import train_test_split\n",
    "\n",
    "@step\n",
    "def local_data_loading() -> dict:\n",
    "    \"\"\"Load the iris dataset from scikit-learn.\"\"\"\n",
    "    iris = load_iris()\n",
    "    X = iris.data\n",
    "    y = iris.target\n",
    "    \n",
    "    X_train, X_test, y_train, y_test = train_test_split(X, y, test_size=0.2, random_state=42)\n",
    "    \n",
    "    return {'X_train': X_train, 'X_test': X_test, 'y_train': y_train, 'y_test': y_test}\n"
   ]
  },
  {
   "cell_type": "code",
   "execution_count": 3,
   "id": "27054543-c468-4a79-afa9-97afb07721ca",
   "metadata": {},
   "outputs": [],
   "source": [
    "from zenml import step\n",
    "from sklearn.linear_model import LogisticRegression\n",
    "\n",
    "@step(step_operator=\"k8s\")\n",
    "def remote_model_training(data: dict) -> LogisticRegression:\n",
    "    \"\"\"Train a logistic regression model on the iris dataset.\"\"\"\n",
    "    model = LogisticRegression()\n",
    "    model.fit(data['X_train'], data['y_train'])\n",
    "    \n",
    "    train_accuracy = model.score(data['X_train'], data['y_train'])\n",
    "    test_accuracy = model.score(data['X_test'], data['y_test'])\n",
    "    \n",
    "    print(f\"Train accuracy: {train_accuracy:.2f}\")\n",
    "    print(f\"Test accuracy: {test_accuracy:.2f}\")\n",
    "    \n",
    "    return model"
   ]
  },
  {
   "cell_type": "code",
   "execution_count": null,
   "id": "96ed7a5f",
   "metadata": {
    "scrolled": true
   },
   "outputs": [
    {
     "name": "stdout",
     "output_type": "stream",
     "text": [
      "1\n",
      "\u001b[1;35mInitiating a new run for the pipeline: \u001b[0m\u001b[1;36msimple-demo-notebook\u001b[1;35m.\u001b[0m\n",
      "\u001b[1;35mRegistered new version: \u001b[0m\u001b[1;36m(version 1)\u001b[1;35m.\u001b[0m\n",
      "\u001b[1;35mUnable to find a build to reuse. When using a code repository, a previous build can be reused when the following conditions are met:\n",
      "  * The existing build was created for the same stack, ZenML version and Python version\n",
      "  * The stack contains a container registry\n",
      "  * The Docker settings of the pipeline and all its steps are the same as for the existing build\n",
      "  * The build does not include code. This will only be the case if the existing build was created with a clean code repository.\u001b[0m\n",
      "\u001b[1;35mBuilding Docker image(s) for pipeline \u001b[0m\u001b[1;36msimple-demo-notebook\u001b[1;35m.\u001b[0m\n",
      "\u001b[1;35mBuilding Docker image \u001b[0m\u001b[1;36mus-central1-docker.pkg.dev/shopify-ml-offline-sandbox/zenml-785362/zenml:simple-demo-notebook-remote_step-kubernetes_step_operator\u001b[1;35m.\u001b[0m\n",
      "\u001b[1;35m- Including stack requirements: \u001b[0m\u001b[1;36mgcsfs\u001b[1;35m, \u001b[0m\u001b[1;36mgoogle-cloud-aiplatform>=1.34.0\u001b[1;35m, \u001b[0m\u001b[1;36mgoogle-cloud-artifact-registry>=1.11.3\u001b[1;35m, \u001b[0m\u001b[1;36mgoogle-cloud-build>=3.11.0\u001b[1;35m, \u001b[0m\u001b[1;36mgoogle-cloud-container>=2.21.0\u001b[1;35m, \u001b[0m\u001b[1;36mgoogle-cloud-secret-manager\u001b[1;35m, \u001b[0m\u001b[1;36mgoogle-cloud-storage>=2.9.0\u001b[1;35m, \u001b[0m\u001b[1;36mkfp>=2.6.0\u001b[1;35m, \u001b[0m\u001b[1;36mkubernetes\u001b[1;35m, \u001b[0m\u001b[1;36mkubernetes>=21.7,<26\u001b[1;35m, \u001b[0m\u001b[1;36mpygithub\u001b[1;35m\u001b[0m\n",
      "\u001b[1;35m- Including user-defined requirements: \u001b[0m\u001b[1;36mgit+https://github.com/zenml-io/zenml.git@feature/kubernetes-step-operator\u001b[1;35m, \u001b[0m\u001b[1;36mkubernetes\u001b[1;35m\u001b[0m\n",
      "\u001b[1;35mIncluding apt packages: \u001b[0m\u001b[1;36mgit\u001b[1;35m\u001b[0m\n",
      "\u001b[1;35mUsing Cloud Build to build image \u001b[0m\u001b[1;36mus-central1-docker.pkg.dev/shopify-ml-offline-sandbox/zenml-785362/zenml:simple-demo-notebook-remote_step-kubernetes_step_operator\u001b[1;35m\u001b[0m\n",
      "\u001b[33mCould not import AWS service connector: No module named 'boto3'.\u001b[0m\n",
      "\u001b[33mCould not import Azure service connector: No module named 'azure'.\u001b[0m\n",
      "\u001b[33mCould not import HyperAI service connector: No module named 'paramiko'.\u001b[0m\n",
      "\u001b[1;35mUploading build context to \u001b[0m\u001b[1;36mgs://zenml-405564901221-785362/cloud-build-contexts/f9479ce9461d96b17bbac460a3c4c830891e1082.tar.gz\u001b[1;35m.\u001b[0m\n",
      "\u001b[1;35mBuild context located in bucket \u001b[0m\u001b[1;36mzenml-405564901221-785362\u001b[1;35m and object path \u001b[0m\u001b[1;36mcloud-build-contexts/f9479ce9461d96b17bbac460a3c4c830891e1082.tar.gz\u001b[1;35m\u001b[0m\n",
      "\u001b[1;35mUsing Cloud Builder image \u001b[0m\u001b[1;36mgcr.io/cloud-builders/docker\u001b[1;35m to run the steps in the build. Container will be attached to network using option \u001b[0m\u001b[1;36m--network=cloudbuild\u001b[1;35m.\u001b[0m\n"
     ]
    },
    {
     "name": "stderr",
     "output_type": "stream",
     "text": [
      "WARNING: All log messages before absl::InitializeLog() is called are written to STDERR\n",
      "I0000 00:00:1721861615.630586  826368 config.cc:230] gRPC experiments enabled: call_status_override_on_cancellation, event_engine_dns, event_engine_listener, http2_stats_fix, monitoring_experiment, pick_first_new, trace_record_callops, work_serializer_clears_time_cache\n",
      "I0000 00:00:1721861615.641420  826368 check_gcp_environment_no_op.cc:29] ALTS: Platforms other than Linux and Windows are not supported\n"
     ]
    },
    {
     "name": "stdout",
     "output_type": "stream",
     "text": [
      "\u001b[1;35mRunning Cloud Build to build the Docker image. Cloud Build logs: \u001b[0m\u001b[1;36mhttps://console.cloud.google.com/cloud-build/builds/29f9ccc2-b7c8-434e-8611-f9990f39525e?project=405564901221\u001b[1;35m\u001b[0m\n"
     ]
    }
   ],
   "source": [
    "from zenml import pipeline\n",
    "\n",
    "@pipeline\n",
    "def local_and_remote_pipeline():\n",
    "    \"\"\"Define a pipeline that connects the steps.\"\"\"\n",
    "    data = local_data_loading()\n",
    "    model = remote_model_training(data)"
   ]
  },
  {
   "cell_type": "code",
   "execution_count": null,
   "id": "6bfda414",
   "metadata": {},
   "outputs": [],
   "source": [
    "run = local_and_remote_pipeline()\n",
    "print(\"success\")"
   ]
  },
  {
   "cell_type": "code",
   "execution_count": null,
   "id": "9262636c",
   "metadata": {},
   "outputs": [],
   "source": [
    "print(run.steps[\"remote_model_training\"].output.load())"
   ]
  }
 ],
 "metadata": {
  "kernelspec": {
   "display_name": "3.10.13",
   "language": "python",
   "name": "3.10.13"
  },
  "language_info": {
   "codemirror_mode": {
    "name": "ipython",
    "version": 3
   },
   "file_extension": ".py",
   "mimetype": "text/x-python",
   "name": "python",
   "nbconvert_exporter": "python",
   "pygments_lexer": "ipython3",
   "version": "3.10.13"
  }
 },
 "nbformat": 4,
 "nbformat_minor": 5
}
