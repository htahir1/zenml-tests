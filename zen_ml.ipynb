{
 "cells": [
  {
   "cell_type": "code",
   "execution_count": null,
   "id": "cfb6c173-fb37-4488-9d78-9243705fcd0c",
   "metadata": {},
   "outputs": [],
   "source": [
    "from zenml import step\n",
    "from sklearn.datasets import load_iris\n",
    "from sklearn.model_selection import train_test_split\n",
    "\n",
    "@step\n",
    "def local_data_loading() -> dict:\n",
    "    \"\"\"Load the iris dataset from scikit-learn.\"\"\"\n",
    "    iris = load_iris()\n",
    "    X = iris.data\n",
    "    y = iris.target\n",
    "    \n",
    "    X_train, X_test, y_train, y_test = train_test_split(X, y, test_size=0.2, random_state=42)\n",
    "    \n",
    "    return {'X_train': X_train, 'X_test': X_test, 'y_train': y_train, 'y_test': y_test}\n"
   ]
  },
  {
   "cell_type": "code",
   "execution_count": null,
   "id": "27054543-c468-4a79-afa9-97afb07721ca",
   "metadata": {},
   "outputs": [],
   "source": [
    "from zenml import step\n",
    "from sklearn.linear_model import LogisticRegression\n",
    "\n",
    "@step(step_operator=\"k8s\")\n",
    "def remote_model_training(data: dict) -> LogisticRegression:\n",
    "    \"\"\"Train a logistic regression model on the iris dataset.\"\"\"\n",
    "    model = LogisticRegression()\n",
    "    model.fit(data['X_train'], data['y_train'])\n",
    "    \n",
    "    train_accuracy = model.score(data['X_train'], data['y_train'])\n",
    "    test_accuracy = model.score(data['X_test'], data['y_test'])\n",
    "    \n",
    "    print(f\"Train accuracy: {train_accuracy:.2f}\")\n",
    "    print(f\"Test accuracy: {test_accuracy:.2f}\")\n",
    "    \n",
    "    return model"
   ]
  },
  {
   "cell_type": "code",
   "execution_count": null,
   "id": "96ed7a5f",
   "metadata": {
    "scrolled": true
   },
   "outputs": [],
   "source": [
    "from zenml import pipeline\n",
    "from zenml.config import DockerSettings\n",
    "\n",
    "@pipeline(settings={\"docker\": DockerSettings(parent_image=\"zenml:parent-image\")})\n",
    "def local_and_remote_pipeline():\n",
    "    \"\"\"Define a pipeline that connects the steps.\"\"\"\n",
    "    data = local_data_loading()\n",
    "    model = remote_model_training(data)"
   ]
  },
  {
   "cell_type": "code",
   "execution_count": null,
   "id": "6bfda414",
   "metadata": {},
   "outputs": [],
   "source": [
    "run = local_and_remote_pipeline()\n",
    "print(\"success\")"
   ]
  },
  {
   "cell_type": "code",
   "execution_count": null,
   "id": "9262636c",
   "metadata": {},
   "outputs": [],
   "source": [
    "print(run.steps[\"remote_model_training\"].output.load())"
   ]
  }
 ],
 "metadata": {
  "kernelspec": {
   "display_name": "tmp",
   "language": "python",
   "name": "python3"
  },
  "language_info": {
   "codemirror_mode": {
    "name": "ipython",
    "version": 3
   },
   "file_extension": ".py",
   "mimetype": "text/x-python",
   "name": "python",
   "nbconvert_exporter": "python",
   "pygments_lexer": "ipython3",
   "version": "3.8.10"
  }
 },
 "nbformat": 4,
 "nbformat_minor": 5
}
